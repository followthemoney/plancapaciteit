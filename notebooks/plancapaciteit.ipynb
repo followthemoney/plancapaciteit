{
 "cells": [
  {
   "cell_type": "markdown",
   "id": "f7c4a048",
   "metadata": {
    "id": "f7c4a048"
   },
   "source": [
    "# Analyse plancapaciteit woningen\n",
    "\n",
    "In deze notebook zetten we cijfers op een rij om de woningbouwplannen van Nederlandse gemeenten in kaart te kunnen brengen. Beschikbare datasets zijn:\n",
    "\n",
    "1. [Plancapaciteit per gemeente.](https://docs.google.com/spreadsheets/d/1v5jXy01Xfx7tZHE5Wna7StYFtER3Xnus/edit?usp=sharing&ouid=113330074508532941534&rtpof=true&sd=true) Deze dataset is samengesteld door Data Bewijst en bevat enkele mitsen en maren:\n",
    "* De meeste provincies werken met het onderscheid harde en zachte plannen en hanteren de fasering 2020-2024, 2025-2029, 2030 en verder.\n",
    "* Limburg hanteert de fasering 2021-2023, 2024 en verder en maakt wel onderscheid in hard en zacht.\n",
    "* Zuid-Holland gooit alle harde en zachte plannen op een hoop en hanteert 1 fase: 2021-2030\n",
    "* Groningen maakt onderscheid tussen hard en zacht, maar hanteert de periode 2020-2029\n",
    "* Drenthe gooit alles op 1 hoop en het is onduidelijk welke periode het hanteert. Daarnaast lijken de cijfers niet te kloppen. Dat wordt nog gechecked.\n",
    "* Friesland maakt onderscheid tussen hard en zacht, maar geeft voor beide 1 tijdsperiode: 2021-2030.\n",
    "* Overijssel maakt wel gebruik van de fasering voor harde plannen, maar alle zachte plannen krijgen 1 tijdsfasering, namelijk 2021-2030.\n",
    "* De gemeente Haaren is in 2021 opgegaan in Vught, Boxtel, Oisterwijk en Tilburg. De vraag is: wat doen we daarmee? Alle vier gemeenten een kwart van Haaren erbij? Waarschijnlijk kunnen we het beste de indeling van 2020 gebruiken.\n",
    "\n",
    "2. [CBS woningvoorraad per gemeente](https://opendata.cbs.nl/statline/portal.html?_la=nl&_catalog=CBS&tableId=81955NED&_theme=275). Deze data is gebaseerd op de BAG en bestrijkt de periode 2012-2020.\n",
    "\n",
    "3. Plannen van [De Nieuwe Kaart](https://nieuwekaartnl.nl/). Deze kaart is alleen niet volledig (een aantal provincies ontbreekt), toont gemengde data (polygonen en punten die als polygoon worden weergegeven) en is niet helemaal *up to date* meer. \n",
    "\n",
    "4. Eigendomsgegevens van de RVO. Dit zijn niet-openbare data die we eigenlijk niet hadden mogen hebben. Per perceel wordt het type eigendom gegeven (woningbouwcorporatie, bouw- of projectontwikkelaar, publiek gemeente, publiek rijk, etc.) Deze data zijn van 2019 en een exacte datum ontbreekt, dus we moeten ervan uitgaan dat ze op 1 januari 2019 zijn gemaakt. \n",
    "\n",
    "5. Data van de [nieuwbouwmonitor](https://geodienst.xyz/nieuwbouwmonitor/) van de Geodienst van de RUG. Dit is gebaseerd op BAG data en geverifieerd met data van het CBS. Toont de woningbouw per gemeente sinds 2014 en rekent ook de doorlooptijd van vergunning tot oplevering uit. In veel opzichten lijkt deze op de dataset van het CSB.\n",
    "\n",
    "6. [De Basisregistratie Kadaster](https://www.pdok.nl/introductie/-/article/basisregistratie-kadaster-brk-) voor percelen en kadastrale grenzen. Uit het register zijn mutaties te halen die mogelijk interessant zijn voor de analyse. "
   ]
  },
  {
   "cell_type": "code",
   "execution_count": null,
   "id": "5d255735",
   "metadata": {
    "executionInfo": {
     "elapsed": 1630,
     "status": "ok",
     "timestamp": 1641210605095,
     "user": {
      "displayName": "Datateam FTM",
      "photoUrl": "https://lh3.googleusercontent.com/a-/AOh14Gh-SZ_IvpQyWYE7bsghTCO40afuTKfDkU4w0AmB=s64",
      "userId": "02928333751490564617"
     },
     "user_tz": -60
    },
    "id": "5d255735"
   },
   "outputs": [],
   "source": [
    "import pandas as pd\n",
    "import datetime as dt\n",
    "import glob\n",
    "import xlrd\n",
    "import geopandas as gpd\n",
    "import plotly.express as px\n",
    "import config"
   ]
  },
  {
   "cell_type": "markdown",
   "id": "a5918404",
   "metadata": {
    "id": "a5918404"
   },
   "source": [
    "## Plancapaciteit\n",
    "\n",
    "Eerst moeten we de data opschonen en normaliseren zodat we ze later makkelijker kunnen combineren met andere datasets. We hebben daarvoor eerst een lijst met gemeentecodes nodig."
   ]
  },
  {
   "cell_type": "code",
   "execution_count": null,
   "id": "rTjNLdF9tYeY",
   "metadata": {
    "executionInfo": {
     "elapsed": 238,
     "status": "ok",
     "timestamp": 1641210624567,
     "user": {
      "displayName": "Datateam FTM",
      "photoUrl": "https://lh3.googleusercontent.com/a-/AOh14Gh-SZ_IvpQyWYE7bsghTCO40afuTKfDkU4w0AmB=s64",
      "userId": "02928333751490564617"
     },
     "user_tz": -60
    },
    "id": "rTjNLdF9tYeY"
   },
   "outputs": [],
   "source": [
    "PATH = config.PATH\n",
    "PATH_GEMEENTEN = config.PATH_GEMEENTEN"
   ]
  },
  {
   "cell_type": "code",
   "execution_count": null,
   "id": "2e36228f",
   "metadata": {
    "colab": {
     "base_uri": "https://localhost:8080/",
     "height": 206
    },
    "executionInfo": {
     "elapsed": 1749,
     "status": "ok",
     "timestamp": 1641210627377,
     "user": {
      "displayName": "Datateam FTM",
      "photoUrl": "https://lh3.googleusercontent.com/a-/AOh14Gh-SZ_IvpQyWYE7bsghTCO40afuTKfDkU4w0AmB=s64",
      "userId": "02928333751490564617"
     },
     "user_tz": -60
    },
    "id": "2e36228f",
    "outputId": "d302faaf-7357-4cb7-e490-b8f8b081d3c5"
   },
   "outputs": [],
   "source": [
    "gemeenten = []\n",
    "\n",
    "for file in glob.glob(PATH_GEMEENTEN + 'Gemeenten*'):\n",
    "    cbs = pd.read_excel(file, usecols=['Gemeentenaam', 'Gemeentecode'])\n",
    "    gemeenten.append(cbs)\n",
    "    \n",
    "gemcode = pd.concat(gemeenten)\n",
    "gemcode = gemcode.drop_duplicates('Gemeentenaam', keep='last').sort_values(by='Gemeentenaam')\n",
    "\n",
    "# Convert Gemeentecode into string, so we can manipulate it easier.\n",
    "\n",
    "gemcode['Gemeentecode'] = gemcode['Gemeentecode'].astype(str)\n",
    "\n",
    "# Add column with Gemcode: we need this later on for merging datasets\n",
    "\n",
    "gemcode['Gemcode'] = gemcode['Gemeentecode'].apply(lambda s: 'GM00' + s if len(s) < 3 else ('GM0' + s if len(s) == 3 else 'GM' + s))\n",
    "\n",
    "gemcode.head()"
   ]
  },
  {
   "cell_type": "markdown",
   "id": "54cdd430",
   "metadata": {
    "id": "54cdd430"
   },
   "source": [
    "Vervolgens importeren we de plancapaciteit per gemeente en koppelen die aan de gemeentecodes. Ook hier moet nog het e.e.a. worden opgeschoond. Let op: Limburg, Friesland en Overijssel hebben iets afwijkende termijnen en Drenthe klopt nog niet helemaal, maar dat maakt op het totaal niet uit. "
   ]
  },
  {
   "cell_type": "code",
   "execution_count": null,
   "id": "3609111a",
   "metadata": {
    "colab": {
     "base_uri": "https://localhost:8080/",
     "height": 206
    },
    "executionInfo": {
     "elapsed": 1352,
     "status": "ok",
     "timestamp": 1641210629849,
     "user": {
      "displayName": "Datateam FTM",
      "photoUrl": "https://lh3.googleusercontent.com/a-/AOh14Gh-SZ_IvpQyWYE7bsghTCO40afuTKfDkU4w0AmB=s64",
      "userId": "02928333751490564617"
     },
     "user_tz": -60
    },
    "id": "3609111a",
    "outputId": "2eaa1f1f-7f89-45c7-9add-77a62c542cb9"
   },
   "outputs": [],
   "source": [
    "plan = pd.read_excel(PATH + 'plancapaciteit_databewijst.xlsx', sheet_name='plancapaciteit_nl')\n",
    "\n",
    "# We moeten een aantal gemeentenamen veranderen, anders gaat het koppelen niet goed. \n",
    "\n",
    "names_to_replace = {'Bergen': 'Bergen (NH.)',\n",
    "                    'Nuenen c.a.': 'Nuenen, Gerwen en Nederwetten',\n",
    "                    'NederBetuwe': 'Neder-Betuwe', \n",
    "                    'Oude Ijsselstreek': 'Oude IJsselstreek', \n",
    "                    'Súdwest Fryslân': 'Súdwest-Fryslân',\n",
    "                    'Bergen (L)': 'Bergen (L.)',\n",
    "                    'Eemsdelta': 'Delfzijl'}\n",
    "\n",
    "plan['gemeente'] = plan['gemeente'].replace(names_to_replace)\n",
    "\n",
    "# Merge de twee bestanden\n",
    "\n",
    "plannen = pd.merge(plan, \n",
    "                       gemcode[['Gemeentenaam', 'Gemcode']], \n",
    "                       left_on='gemeente', \n",
    "                       right_on='Gemeentenaam', \n",
    "                       how='left')\n",
    "\n",
    "# En nog even wat netter maken\n",
    "\n",
    "plannen = plannen.rename(columns={'Gemcode': 'gemeentecode',\n",
    "                                          'htotaal': 'harde_plannen_totaal',\n",
    "                                          'ztotaal': 'zachte_plannen_totaal',\n",
    "                                          'totaal': 'plannen_totaal'})\n",
    "\n",
    "# En laten we even alleen de totalen gebruiken en ca tien jaar vooruit kijken.\n",
    "\n",
    "plannen = plannen[['gemeente', \n",
    "                           'gemeentecode', \n",
    "                           'provincie',\n",
    "                           'harde_plannen_totaal',\n",
    "                           'zachte_plannen_totaal',\n",
    "                           'plannen_totaal']]\n",
    "\n",
    "# Tot slot nog even het datatype van de totalen veranderen van float naar int\n",
    "\n",
    "cols = ['harde_plannen_totaal', 'zachte_plannen_totaal', 'plannen_totaal']\n",
    "\n",
    "plannen[cols] = plannen[cols].fillna(0).astype('int64')\n",
    "\n",
    "plannen.head()"
   ]
  },
  {
   "cell_type": "markdown",
   "id": "nrufpeKO3Bse",
   "metadata": {
    "id": "nrufpeKO3Bse"
   },
   "source": [
    "Laten we wat statistieken eruit halen. Eerst de totalen. Let op, harde en zachte plannen bij elkaar leveren een ander getal op dan het totaal. Dat komt doordat sommige provincies alleen maar totalen hebben opgegeven en niet uitsplitsen naar hard en zacht."
   ]
  },
  {
   "cell_type": "code",
   "execution_count": null,
   "id": "Cia7PwZw3ACc",
   "metadata": {
    "colab": {
     "base_uri": "https://localhost:8080/"
    },
    "executionInfo": {
     "elapsed": 208,
     "status": "ok",
     "timestamp": 1641210631357,
     "user": {
      "displayName": "Datateam FTM",
      "photoUrl": "https://lh3.googleusercontent.com/a-/AOh14Gh-SZ_IvpQyWYE7bsghTCO40afuTKfDkU4w0AmB=s64",
      "userId": "02928333751490564617"
     },
     "user_tz": -60
    },
    "id": "Cia7PwZw3ACc",
    "outputId": "da6eea01-bbd9-4497-8faa-3dc5110e1e4a"
   },
   "outputs": [],
   "source": [
    "print('Er staan ' + str(plannen.harde_plannen_totaal.sum()) + ' huizen in de harde plannen vanaf 2020.\\n' + \\\n",
    "      'Er staan ' + str(plannen.zachte_plannen_totaal.sum()) + ' huizen in de zachte plannen van 2020.\\n' + \\\n",
    "      'En dat zijn er dus ' + str(plannen.plannen_totaal.sum()) + ' in totaal')"
   ]
  },
  {
   "cell_type": "markdown",
   "id": "6w4DJbt55bQe",
   "metadata": {
    "id": "6w4DJbt55bQe"
   },
   "source": [
    "Dan wat lijstjes."
   ]
  },
  {
   "cell_type": "code",
   "execution_count": null,
   "id": "z-Myei1046pX",
   "metadata": {
    "colab": {
     "base_uri": "https://localhost:8080/",
     "height": 363
    },
    "executionInfo": {
     "elapsed": 236,
     "status": "ok",
     "timestamp": 1641210633468,
     "user": {
      "displayName": "Datateam FTM",
      "photoUrl": "https://lh3.googleusercontent.com/a-/AOh14Gh-SZ_IvpQyWYE7bsghTCO40afuTKfDkU4w0AmB=s64",
      "userId": "02928333751490564617"
     },
     "user_tz": -60
    },
    "id": "z-Myei1046pX",
    "outputId": "f14115f8-a869-463f-d187-99f692c9199a"
   },
   "outputs": [],
   "source": [
    "# Meeste woningbouw (plannen totaal)\n",
    "\n",
    "plannen[['gemeente', 'plannen_totaal']].sort_values('plannen_totaal', ascending=False)[:10]"
   ]
  },
  {
   "cell_type": "code",
   "execution_count": null,
   "id": "Bgd5zaLY6erd",
   "metadata": {
    "colab": {
     "base_uri": "https://localhost:8080/",
     "height": 363
    },
    "executionInfo": {
     "elapsed": 13,
     "status": "ok",
     "timestamp": 1641210634316,
     "user": {
      "displayName": "Datateam FTM",
      "photoUrl": "https://lh3.googleusercontent.com/a-/AOh14Gh-SZ_IvpQyWYE7bsghTCO40afuTKfDkU4w0AmB=s64",
      "userId": "02928333751490564617"
     },
     "user_tz": -60
    },
    "id": "Bgd5zaLY6erd",
    "outputId": "0a548574-b65c-42da-b7b9-20e929fb58a9"
   },
   "outputs": [],
   "source": [
    "# Meeste woningbouw (harde plannen, let op: hier ontbreken dus gemeenten):\n",
    "\n",
    "plannen[['gemeente', 'harde_plannen_totaal']].sort_values('harde_plannen_totaal', ascending=False)[:10]"
   ]
  },
  {
   "cell_type": "code",
   "execution_count": null,
   "id": "E5AzDgtF6vin",
   "metadata": {
    "colab": {
     "base_uri": "https://localhost:8080/",
     "height": 363
    },
    "executionInfo": {
     "elapsed": 12,
     "status": "ok",
     "timestamp": 1641210635320,
     "user": {
      "displayName": "Datateam FTM",
      "photoUrl": "https://lh3.googleusercontent.com/a-/AOh14Gh-SZ_IvpQyWYE7bsghTCO40afuTKfDkU4w0AmB=s64",
      "userId": "02928333751490564617"
     },
     "user_tz": -60
    },
    "id": "E5AzDgtF6vin",
    "outputId": "6c8d9e67-25cc-4daf-8daf-836830c65154"
   },
   "outputs": [],
   "source": [
    "# Meeste woningbouw (zachte plannen, let op: hier ontbreken dus gemeenten)\n",
    "\n",
    "plannen[['gemeente', 'zachte_plannen_totaal']].sort_values('zachte_plannen_totaal', ascending=False)[:10]\n"
   ]
  },
  {
   "cell_type": "code",
   "execution_count": null,
   "id": "QX5ynXDI7AVl",
   "metadata": {
    "colab": {
     "base_uri": "https://localhost:8080/"
    },
    "executionInfo": {
     "elapsed": 235,
     "status": "ok",
     "timestamp": 1641210636964,
     "user": {
      "displayName": "Datateam FTM",
      "photoUrl": "https://lh3.googleusercontent.com/a-/AOh14Gh-SZ_IvpQyWYE7bsghTCO40afuTKfDkU4w0AmB=s64",
      "userId": "02928333751490564617"
     },
     "user_tz": -60
    },
    "id": "QX5ynXDI7AVl",
    "outputId": "d5732c21-6029-40a5-87dd-bb3bdc258057"
   },
   "outputs": [],
   "source": [
    "# En even nog naar provincies kijken (totale plannen), maar waarschijnlijk levert dat weinig verrassingen op\n",
    "\n",
    "plannen.groupby('provincie')['plannen_totaal'].sum().sort_values(ascending=False)"
   ]
  },
  {
   "cell_type": "markdown",
   "id": "5oJEUtIR-X8m",
   "metadata": {
    "id": "5oJEUtIR-X8m"
   },
   "source": [
    "Toch wel een paar opvallende dingen:\n",
    "1. Relatief veel in Noord-Holland. Zuid-Holland is qua bevolkingsaantal de meest omvangrijke provincie (3,7 miljoen inwoners t.o. 2,8 miljoen inwoners in Noord-Holland)\n",
    "2. Flevoland, daar wonen nu iets meer dan 428.000 mensen."
   ]
  },
  {
   "cell_type": "markdown",
   "id": "d5cd58b7",
   "metadata": {
    "id": "d5cd58b7"
   },
   "source": [
    "## CBS Data Woningvoorraad\n",
    "\n",
    "Het is ook interessant om de geplande huizenbouw te vergelijken met wat er de afgelopen tien jaar is gebouwd en de huidige woningvoorraad. Het CBS heeft die cijfers. We moeten de woningvoorraad per gemeente importeren en de mutaties over tijd laten zien. "
   ]
  },
  {
   "cell_type": "code",
   "execution_count": null,
   "id": "269a11e0",
   "metadata": {
    "colab": {
     "base_uri": "https://localhost:8080/",
     "height": 206
    },
    "executionInfo": {
     "elapsed": 547,
     "status": "ok",
     "timestamp": 1641210639921,
     "user": {
      "displayName": "Datateam FTM",
      "photoUrl": "https://lh3.googleusercontent.com/a-/AOh14Gh-SZ_IvpQyWYE7bsghTCO40afuTKfDkU4w0AmB=s64",
      "userId": "02928333751490564617"
     },
     "user_tz": -60
    },
    "id": "269a11e0",
    "outputId": "404fe18c-f46d-4abb-bedd-e61eab474008"
   },
   "outputs": [],
   "source": [
    "cbs_woning = pd.read_csv(PATH + 'cbs_woningvoorraad_gemeenten_2012-2020.csv', sep=';')\n",
    "cbs_woning.head()"
   ]
  },
  {
   "cell_type": "code",
   "execution_count": null,
   "id": "4e0f85e8",
   "metadata": {
    "colab": {
     "base_uri": "https://localhost:8080/",
     "height": 623
    },
    "executionInfo": {
     "elapsed": 307,
     "status": "ok",
     "timestamp": 1641210641065,
     "user": {
      "displayName": "Datateam FTM",
      "photoUrl": "https://lh3.googleusercontent.com/a-/AOh14Gh-SZ_IvpQyWYE7bsghTCO40afuTKfDkU4w0AmB=s64",
      "userId": "02928333751490564617"
     },
     "user_tz": -60
    },
    "id": "4e0f85e8",
    "outputId": "7b43c362-7e97-4618-ec25-1cdbea11ca5a"
   },
   "outputs": [],
   "source": [
    "# Ook dit even wat netter maken\n",
    "\n",
    "cbs_woning = cbs_woning.rename(columns={'Gebruiksfunctie': 'gebruiksfunctie',\n",
    "                                         'RegioS': 'gemeentecode',\n",
    "                                         'Perioden': 'jaar',\n",
    "                                         'BeginstandVoorraad_1': 'beginstand_woningvoorraad',\n",
    "                                         'Nieuwbouw_2': 'nieuwbouw',\n",
    "                                         'OverigeToevoeging_3': 'overige_toevoeging',\n",
    "                                         'Sloop_4': 'sloop',\n",
    "                                         'OverigeOnttrekking_5': 'overige_onttrekking', \n",
    "                                         'Correctie_6': 'correctie',\n",
    "                                         'SaldoVoorraad_7': 'saldo_voorraad',\n",
    "                                         'EindstandVoorraad_8': 'eindstand_voorraad'})\n",
    "\n",
    "# Columns even numeriek maken (werkt nog niet goed, later nog even naar kijken)\n",
    "\n",
    "cbs_woning = cbs_woning.dropna(subset=['nieuwbouw'])\n",
    "\n",
    "cols = ['beginstand_woningvoorraad', \n",
    "        'nieuwbouw', \n",
    "        'overige_toevoeging', \n",
    "        'sloop', \n",
    "        'overige_onttrekking',\n",
    "        'correctie',\n",
    "        'saldo_voorraad',\n",
    "        'eindstand_voorraad']\n",
    "\n",
    "cbs_woning[cols] = cbs_woning[cols].astype('int64')\n",
    "\n",
    "# Verander de 'jaar' column in date\n",
    "\n",
    "cbs_woning['jaar'] = cbs_woning['jaar'].str[0:4]\n",
    "cbs_woning['jaar'] = pd.to_datetime(cbs_woning.jaar, format='%Y').dt.year\n",
    "\n",
    "cbs_woning.head()"
   ]
  },
  {
   "cell_type": "markdown",
   "id": "0aab4859",
   "metadata": {
    "id": "0aab4859"
   },
   "source": [
    "## En nu combineren\n",
    "\n",
    "We hebben de basale datasets op orde en kunnen nu gaan combineren. Laten we beginnen met een samenvattende tabel maken voor gemeenten met daarin:\n",
    "1. gemeentecode\n",
    "2. woningvooraad laagste waarde\n",
    "3. woningvooraad laagste waarde - jaar\n",
    "4. woningvoorraad hoogste waarde\n",
    "5. woningvoorraad hoogste waarde - jaar\n",
    "6. woningvoorraad procentueel verschil\n",
    "7. nieuwbouw laagste waarde\n",
    "8. nieuwbouw hoogste waarde\n",
    "9. nieuwbouw als percentage van woningvoorraad\n",
    "10. nieuwbouw som 2012-2020"
   ]
  },
  {
   "cell_type": "code",
   "execution_count": null,
   "id": "3699a890",
   "metadata": {
    "colab": {
     "base_uri": "https://localhost:8080/",
     "height": 238
    },
    "executionInfo": {
     "elapsed": 233,
     "status": "ok",
     "timestamp": 1641210643297,
     "user": {
      "displayName": "Datateam FTM",
      "photoUrl": "https://lh3.googleusercontent.com/a-/AOh14Gh-SZ_IvpQyWYE7bsghTCO40afuTKfDkU4w0AmB=s64",
      "userId": "02928333751490564617"
     },
     "user_tz": -60
    },
    "id": "3699a890",
    "outputId": "65418be2-33ca-42e0-a8d2-224eb70e74e2"
   },
   "outputs": [],
   "source": [
    "# Bereken mediaan, min en max\n",
    "\n",
    "voorraad = cbs_woning.groupby([\"gemeentecode\"], as_index=False)['beginstand_woningvoorraad']\\\n",
    ".agg(['median', 'min', 'max'])\n",
    "\n",
    "# Bereken percentage\n",
    "\n",
    "voorraad['dif_voorraad'] = voorraad['max'] / voorraad['min'] * 100 - 100\n",
    "\n",
    "# Rond het netjes af\n",
    "\n",
    "voorraad['dif_voorraad'] = voorraad['dif_voorraad'].round(1)\n",
    "\n",
    "voorraad.head()"
   ]
  },
  {
   "cell_type": "code",
   "execution_count": null,
   "id": "bc9ea3ef",
   "metadata": {
    "colab": {
     "base_uri": "https://localhost:8080/",
     "height": 238
    },
    "executionInfo": {
     "elapsed": 324,
     "status": "ok",
     "timestamp": 1641210644950,
     "user": {
      "displayName": "Datateam FTM",
      "photoUrl": "https://lh3.googleusercontent.com/a-/AOh14Gh-SZ_IvpQyWYE7bsghTCO40afuTKfDkU4w0AmB=s64",
      "userId": "02928333751490564617"
     },
     "user_tz": -60
    },
    "id": "bc9ea3ef",
    "outputId": "8cdfaaf0-dbdc-462b-c5d1-efa26e33a291"
   },
   "outputs": [],
   "source": [
    "nieuwbouw = cbs_woning.groupby([\"gemeentecode\"], as_index=False)['nieuwbouw'].agg(['median', 'min', 'max', 'sum'])\n",
    "\n",
    "nieuwbouw.head()"
   ]
  },
  {
   "cell_type": "code",
   "execution_count": null,
   "id": "01efd05f",
   "metadata": {
    "colab": {
     "base_uri": "https://localhost:8080/",
     "height": 238
    },
    "executionInfo": {
     "elapsed": 12,
     "status": "ok",
     "timestamp": 1641210646210,
     "user": {
      "displayName": "Datateam FTM",
      "photoUrl": "https://lh3.googleusercontent.com/a-/AOh14Gh-SZ_IvpQyWYE7bsghTCO40afuTKfDkU4w0AmB=s64",
      "userId": "02928333751490564617"
     },
     "user_tz": -60
    },
    "id": "01efd05f",
    "outputId": "be879f8a-a84b-4f7f-8deb-12c167d2e675"
   },
   "outputs": [],
   "source": [
    "# Voeg ze samen\n",
    "\n",
    "voorraad = voorraad.rename(columns = {'median': 'voorraad_median', \n",
    "                                      'min': 'voorraad_min', \n",
    "                                      'max': 'voorraad_max'})\n",
    "\n",
    "nieuwbouw = nieuwbouw.rename(columns = {'median': 'nieuwbouw_median', \n",
    "                                        'min': 'nieuwbouw_min', \n",
    "                                        'max': 'nieuwbouw_max',\n",
    "                                        'sum': 'nieuwbouw_sum'})\n",
    "\n",
    "df = pd.merge(voorraad, nieuwbouw, on='gemeentecode', how='left')\n",
    "df.head()\n"
   ]
  },
  {
   "cell_type": "code",
   "execution_count": null,
   "id": "bd25c15b",
   "metadata": {
    "colab": {
     "base_uri": "https://localhost:8080/",
     "height": 238
    },
    "executionInfo": {
     "elapsed": 12,
     "status": "ok",
     "timestamp": 1641210647176,
     "user": {
      "displayName": "Datateam FTM",
      "photoUrl": "https://lh3.googleusercontent.com/a-/AOh14Gh-SZ_IvpQyWYE7bsghTCO40afuTKfDkU4w0AmB=s64",
      "userId": "02928333751490564617"
     },
     "user_tz": -60
    },
    "id": "bd25c15b",
    "outputId": "646d45a9-6831-47c7-fb96-a73031d761a4"
   },
   "outputs": [],
   "source": [
    "# Dan moeten we nog: nieuwbouw als percentage van de woningvoorraad (mediaan)...\n",
    "\n",
    "df['nieuwbouw_perc'] = df['nieuwbouw_sum'] / df['voorraad_median'] * 100\n",
    "df['nieuwbouw_perc'] = df['nieuwbouw_perc'].round(1)\n",
    "df.head()"
   ]
  },
  {
   "cell_type": "code",
   "execution_count": null,
   "id": "f1468a2e",
   "metadata": {
    "executionInfo": {
     "elapsed": 1,
     "status": "ok",
     "timestamp": 1641210648193,
     "user": {
      "displayName": "Datateam FTM",
      "photoUrl": "https://lh3.googleusercontent.com/a-/AOh14Gh-SZ_IvpQyWYE7bsghTCO40afuTKfDkU4w0AmB=s64",
      "userId": "02928333751490564617"
     },
     "user_tz": -60
    },
    "id": "f1468a2e"
   },
   "outputs": [],
   "source": [
    "# En jaar van min en max woningvoorraad\n",
    "\n",
    "idx_max = cbs_woning.groupby(['gemeentecode'])['beginstand_woningvoorraad'].transform(max) == cbs_woning['beginstand_woningvoorraad']\n",
    "idx_min = cbs_woning.groupby(['gemeentecode'])['beginstand_woningvoorraad'].transform(min) == cbs_woning['beginstand_woningvoorraad']\n",
    "\n",
    "max_jaar = cbs_woning[idx_max]\n",
    "max_jaar = max_jaar[['gemeentecode', 'jaar']]\n",
    "max_jaar = max_jaar.rename(columns={'jaar':'max_jaar'})\n",
    "min_jaar = cbs_woning[idx_min]\n",
    "min_jaar = min_jaar[['gemeentecode', 'jaar']]\n",
    "min_jaar = min_jaar.rename(columns={'jaar': 'min_jaar'})"
   ]
  },
  {
   "cell_type": "code",
   "execution_count": null,
   "id": "3b736998",
   "metadata": {
    "colab": {
     "base_uri": "https://localhost:8080/",
     "height": 206
    },
    "executionInfo": {
     "elapsed": 19,
     "status": "ok",
     "timestamp": 1641210649021,
     "user": {
      "displayName": "Datateam FTM",
      "photoUrl": "https://lh3.googleusercontent.com/a-/AOh14Gh-SZ_IvpQyWYE7bsghTCO40afuTKfDkU4w0AmB=s64",
      "userId": "02928333751490564617"
     },
     "user_tz": -60
    },
    "id": "3b736998",
    "outputId": "60febf84-fa8c-4f00-e4c3-be5bd67227bd"
   },
   "outputs": [],
   "source": [
    "# Merge met df\n",
    "\n",
    "df1 = pd.merge(df, max_jaar, on='gemeentecode', how='left')\n",
    "cbs_woningvoorraad = pd.merge(df1, min_jaar, on='gemeentecode', how='left')\n",
    "cbs_woningvoorraad.head()"
   ]
  },
  {
   "cell_type": "code",
   "execution_count": null,
   "id": "0dec20e1",
   "metadata": {
    "colab": {
     "base_uri": "https://localhost:8080/",
     "height": 357
    },
    "executionInfo": {
     "elapsed": 17,
     "status": "ok",
     "timestamp": 1641210649844,
     "user": {
      "displayName": "Datateam FTM",
      "photoUrl": "https://lh3.googleusercontent.com/a-/AOh14Gh-SZ_IvpQyWYE7bsghTCO40afuTKfDkU4w0AmB=s64",
      "userId": "02928333751490564617"
     },
     "user_tz": -60
    },
    "id": "0dec20e1",
    "outputId": "72197d49-3ce7-4fd5-a2e7-1948d7e6a295"
   },
   "outputs": [],
   "source": [
    "# And bring it all together\n",
    "\n",
    "df = pd.merge(plannen, cbs_woningvoorraad, on='gemeentecode', how='left')\n",
    "df.head()"
   ]
  },
  {
   "cell_type": "code",
   "execution_count": null,
   "id": "ebbf16c8",
   "metadata": {
    "executionInfo": {
     "elapsed": 2,
     "status": "ok",
     "timestamp": 1641210650939,
     "user": {
      "displayName": "Datateam FTM",
      "photoUrl": "https://lh3.googleusercontent.com/a-/AOh14Gh-SZ_IvpQyWYE7bsghTCO40afuTKfDkU4w0AmB=s64",
      "userId": "02928333751490564617"
     },
     "user_tz": -60
    },
    "id": "ebbf16c8"
   },
   "outputs": [],
   "source": [
    "# We kunnen nog een paar kolommen toevoegen\n",
    "\n",
    "# Zoals het absolute verschil tussen plannen (2020-2030) en nieuwbouw (2012-2020)\n",
    "\n",
    "df['plannen_nieuwbouw_abs'] = df['plannen_totaal'] - df['nieuwbouw_sum']\n",
    "\n",
    "# Nieuwbouw is twee jaar korter, dus we zouden daar heel ruw voor kunnen compenseren\n",
    "\n",
    "df['plannen_nieuwbouw_abs_comp'] = (df['plannen_totaal'] * 0.8) - df['nieuwbouw_sum']\n",
    "\n",
    "# En het relatieve verschil\n",
    "\n",
    "df['plannen_nieuwbouw_rel'] = df['plannen_totaal'] / df['nieuwbouw_sum'] * 100 - 100\n",
    "df['plannen_nieuwbouw_rel'] = df['plannen_nieuwbouw_rel'].round(1)\n",
    "\n",
    "# En het relatieve verschil, gecompenseerd\n",
    "\n",
    "df['plannen_nieuwbouw_rel_comp'] = ((df['plannen_totaal'] * 0.8)/ df['nieuwbouw_sum']) * 100 - 100\n",
    "df['plannen_nieuwbouw_rel_comp'] = df['plannen_nieuwbouw_rel_comp'].round(1)\n",
    "\n",
    "# En verschil tussen max woningvoorraad en plannen, absoluut en relatief\n",
    "\n",
    "df['voorraad_plannen_abs'] = df['voorraad_max'] - df['plannen_totaal']\n",
    "df['voorraad_plannen_rel'] = (df['plannen_totaal'] / df['voorraad_max']) * 100\n",
    "df['voorraad_plannen_rel'] = df['voorraad_plannen_rel'].round(1)\n"
   ]
  },
  {
   "cell_type": "code",
   "execution_count": null,
   "id": "318358b3",
   "metadata": {
    "colab": {
     "base_uri": "https://localhost:8080/",
     "height": 357
    },
    "executionInfo": {
     "elapsed": 18,
     "status": "ok",
     "timestamp": 1641210651697,
     "user": {
      "displayName": "Datateam FTM",
      "photoUrl": "https://lh3.googleusercontent.com/a-/AOh14Gh-SZ_IvpQyWYE7bsghTCO40afuTKfDkU4w0AmB=s64",
      "userId": "02928333751490564617"
     },
     "user_tz": -60
    },
    "id": "318358b3",
    "outputId": "4dd6f1b3-cd4d-4048-da38-6fe73e629eee"
   },
   "outputs": [],
   "source": [
    "df.head()"
   ]
  },
  {
   "cell_type": "markdown",
   "id": "19221f73",
   "metadata": {
    "id": "19221f73"
   },
   "source": [
    "Bovenstaande berekening lees je dus als volgt:\n",
    "1. plannen_nieuwbouw_abs: 854 betekent dat er 854 meer huizen staan gepland dan er in 2012-2020 zijn gebouwd\n",
    "2. plannen_nieuwbouw_abs_comp: als we uitgaan van 2010-2020 (iets eerlijker vergelijking met alle mitsen en maren) dan komt dit uit op 636 meer. \n",
    "3. plannen_nieuwbouw_rel: 78,3 procent betekent dat er 78,3 procent meer huizen gepland zijn dan er in 2012-2020 is gebouwd. \n",
    "4. plannen_nieuwbouw_rel_com: 48 procent betekent dus 48 procent meer huizen gepland dan er gebouwd zijn in 2010 (schatting) tot en met 2020.\n",
    "5. voorraad_plannen_abs: het verschil tussen maximale woningvoorraad en de plannen. zegt niet zo gek veel\n",
    "6. voorraad_plannen_rel: 6,9 is dus het percentage van geplande woningen t.o.v. de woningvoorraad. De woningvoorraad breidt dus, als de plannen doorgaan, met 6,9 procent uit. "
   ]
  },
  {
   "cell_type": "markdown",
   "id": "f7ab5c79",
   "metadata": {
    "id": "f7ab5c79"
   },
   "source": [
    "## En dan nu wat inzichten eruit halen\n",
    "\n",
    "Met deze scatterplot kun je inzoomen en zien welke gemeente het is door erover te hoveren. Amsterdam is een behoorlijke uitschieter, dus die vertekent. Je kunt makkelijk inzoomen. Het meest interessant zijn de gemeenten linksboven en rechtsonder, dus boven en onder een denkbeeldige trendlijn. Erboven is veel gebouwd, wat minder in de planning. Eronder is weinig gebouwd, juist veel in de planning. \n",
    "1. Je ziet dan dat deze steden relatief veel gaan bouwen: Zaanstad, Haarlemmermeer, Alkmaar, Lelystad, Haarlem, Alkmaar, Heerhugowaard, Amstelveen, Beverwijk. Oftewel: veel rond Amsterdam en in ieder geval Noord-Holland.\n",
    "2. Steden als Eindhoven, Tilburg, Breda, Den Bosch en Nijmegen hadden al veel nieuwbouw en gaan redelijk daarmee door. \n",
    "3. Kleinere steden zoals Heumen, Duiven en Waterland gaan drie keer zoveel bouwen als ze de laatste jaren hebben gedaan. "
   ]
  },
  {
   "cell_type": "code",
   "execution_count": null,
   "id": "d9aeac28",
   "metadata": {
    "colab": {
     "base_uri": "https://localhost:8080/",
     "height": 617
    },
    "executionInfo": {
     "elapsed": 574,
     "status": "ok",
     "timestamp": 1641210655123,
     "user": {
      "displayName": "Datateam FTM",
      "photoUrl": "https://lh3.googleusercontent.com/a-/AOh14Gh-SZ_IvpQyWYE7bsghTCO40afuTKfDkU4w0AmB=s64",
      "userId": "02928333751490564617"
     },
     "user_tz": -60
    },
    "id": "d9aeac28",
    "outputId": "1fdbe12a-af4a-4021-c41f-22c98efce44c"
   },
   "outputs": [],
   "source": [
    "from bokeh.io import output_notebook, show\n",
    "from bokeh.models import *\n",
    "from bokeh.palettes import plasma\n",
    "from bokeh.plotting import figure\n",
    "from bokeh.transform import transform\n",
    "output_notebook()\n",
    "\n",
    "list_x = list(df['plannen_totaal'])\n",
    "list_y = list(df['nieuwbouw_sum'])\n",
    "desc = list(df['gemeente'])\n",
    "\n",
    "source = ColumnDataSource(data=dict(x=list_x, y=list_y, desc=desc))\n",
    "hover = HoverTool(tooltips=[\n",
    "    (\"plannen\", \"@x\"),\n",
    "    (\"nieuwbouw\", \"@y\"),\n",
    "    ('gemeente', '@desc'),\n",
    "])\n",
    "\n",
    "box_zoom = BoxZoomTool()\n",
    "wheel_zoom = WheelZoomTool()\n",
    "reset = ResetTool()\n",
    "undo = UndoTool()\n",
    "pan = PanTool()\n",
    "\n",
    "mapper = LinearColorMapper(palette=plasma(256), low=min(list_y), high=max(list_y))\n",
    "\n",
    "p = figure(plot_width=800, plot_height=600, tools=[hover,box_zoom,wheel_zoom,reset,undo], title=\"Nieuwbouw versus plannen\")\n",
    "p.circle('x', 'y', size=10, source=source,\n",
    "         fill_color=transform('y', mapper))\n",
    "\n",
    "\n",
    "show(p)"
   ]
  },
  {
   "cell_type": "code",
   "execution_count": null,
   "id": "bc9cbc10",
   "metadata": {
    "colab": {
     "base_uri": "https://localhost:8080/"
    },
    "executionInfo": {
     "elapsed": 231,
     "status": "ok",
     "timestamp": 1641210656232,
     "user": {
      "displayName": "Datateam FTM",
      "photoUrl": "https://lh3.googleusercontent.com/a-/AOh14Gh-SZ_IvpQyWYE7bsghTCO40afuTKfDkU4w0AmB=s64",
      "userId": "02928333751490564617"
     },
     "user_tz": -60
    },
    "id": "bc9cbc10",
    "outputId": "9eb439d4-1285-47af-b605-0650101beab5"
   },
   "outputs": [],
   "source": [
    "# Waar wordt, volgens de plannen, het meest uitgebreid, even in tabelvorm (top20)?\n",
    "\n",
    "print(df.sort_values(by='voorraad_plannen_rel', \n",
    "      ascending=False)[0:20][['gemeente', \n",
    "                              'voorraad_plannen_rel']]\\\n",
    "      .to_string(index=False))"
   ]
  },
  {
   "cell_type": "markdown",
   "id": "a79705e5",
   "metadata": {
    "id": "a79705e5"
   },
   "source": [
    "**Analyse** \n",
    "* Zowel Ouder-Amstel en Lelystad plannen meer woningen dan ze nu hebben, respectievelijk 1916 en 10025. Klopt dat wel? Is er een fout gemaakt met de data-invoer? Gecheckt: nee. \n",
    "* Ook hier veel gemeenten rond Amsterdam. Niet raar omdat we dezelfde twee kolommen met elkaar vergelijken."
   ]
  },
  {
   "cell_type": "code",
   "execution_count": null,
   "id": "41a232d2",
   "metadata": {
    "colab": {
     "base_uri": "https://localhost:8080/"
    },
    "executionInfo": {
     "elapsed": 6,
     "status": "ok",
     "timestamp": 1641210657414,
     "user": {
      "displayName": "Datateam FTM",
      "photoUrl": "https://lh3.googleusercontent.com/a-/AOh14Gh-SZ_IvpQyWYE7bsghTCO40afuTKfDkU4w0AmB=s64",
      "userId": "02928333751490564617"
     },
     "user_tz": -60
    },
    "id": "41a232d2",
    "outputId": "7e948050-92c6-407d-e98a-37738bad8c1a"
   },
   "outputs": [],
   "source": [
    "# Waar worden relatief veel nieuwe huizen gepland als je kijkt naar de bouwactiviteit van 2012-2020? \n",
    "\n",
    "print(df.sort_values(by='plannen_nieuwbouw_rel_comp' , ascending=False)[0:20][['gemeente', 'plannen_nieuwbouw_rel_comp']]\\\n",
    "      .to_string(index=False))"
   ]
  },
  {
   "cell_type": "markdown",
   "id": "5OqS_ZxDzXPB",
   "metadata": {
    "id": "5OqS_ZxDzXPB"
   },
   "source": [
    "Laten we de gemeenten nu koppelen aan een shapefile van 2020 en eens kijken hoe dat eruit ziet. "
   ]
  },
  {
   "cell_type": "code",
   "execution_count": null,
   "id": "8vbtbW40zVuQ",
   "metadata": {
    "executionInfo": {
     "elapsed": 1221,
     "status": "ok",
     "timestamp": 1641210662123,
     "user": {
      "displayName": "Datateam FTM",
      "photoUrl": "https://lh3.googleusercontent.com/a-/AOh14Gh-SZ_IvpQyWYE7bsghTCO40afuTKfDkU4w0AmB=s64",
      "userId": "02928333751490564617"
     },
     "user_tz": -60
    },
    "id": "8vbtbW40zVuQ"
   },
   "outputs": [],
   "source": [
    "shape = gpd.read_file('/content/drive/MyDrive/projects/bouwput_nederland/data/plancapaciteit/shapefiles/cbs_buurt_gemeente_wijk_2020/gemeente_2020_v1.shp')"
   ]
  },
  {
   "cell_type": "code",
   "execution_count": null,
   "id": "vKjGSn4Z0Pca",
   "metadata": {
    "colab": {
     "base_uri": "https://localhost:8080/"
    },
    "executionInfo": {
     "elapsed": 16,
     "status": "ok",
     "timestamp": 1641210663196,
     "user": {
      "displayName": "Datateam FTM",
      "photoUrl": "https://lh3.googleusercontent.com/a-/AOh14Gh-SZ_IvpQyWYE7bsghTCO40afuTKfDkU4w0AmB=s64",
      "userId": "02928333751490564617"
     },
     "user_tz": -60
    },
    "id": "vKjGSn4Z0Pca",
    "outputId": "836c0408-e5be-4550-bb22-f72aac607865"
   },
   "outputs": [],
   "source": [
    "shape = shape[shape['H2O'] == 'NEE']\n",
    "\n",
    "shape = shape[['GM_CODE',\n",
    "               'GM_NAAM',\n",
    "               'geometry']]\n",
    "\n",
    "len(shape)       "
   ]
  },
  {
   "cell_type": "code",
   "execution_count": null,
   "id": "n6_K0PwH00Zz",
   "metadata": {
    "executionInfo": {
     "elapsed": 2,
     "status": "ok",
     "timestamp": 1641210664093,
     "user": {
      "displayName": "Datateam FTM",
      "photoUrl": "https://lh3.googleusercontent.com/a-/AOh14Gh-SZ_IvpQyWYE7bsghTCO40afuTKfDkU4w0AmB=s64",
      "userId": "02928333751490564617"
     },
     "user_tz": -60
    },
    "id": "n6_K0PwH00Zz"
   },
   "outputs": [],
   "source": [
    "to_check = list(df['gemeentecode'])"
   ]
  },
  {
   "cell_type": "code",
   "execution_count": null,
   "id": "d7-ixLzQ0xDE",
   "metadata": {
    "colab": {
     "base_uri": "https://localhost:8080/",
     "height": 112
    },
    "executionInfo": {
     "elapsed": 25,
     "status": "ok",
     "timestamp": 1641210665406,
     "user": {
      "displayName": "Datateam FTM",
      "photoUrl": "https://lh3.googleusercontent.com/a-/AOh14Gh-SZ_IvpQyWYE7bsghTCO40afuTKfDkU4w0AmB=s64",
      "userId": "02928333751490564617"
     },
     "user_tz": -60
    },
    "id": "d7-ixLzQ0xDE",
    "outputId": "e524c1a0-a7c5-4d07-f339-6e393de3c5dd"
   },
   "outputs": [],
   "source": [
    "shape[~shape['GM_CODE'].isin(to_check)]"
   ]
  },
  {
   "cell_type": "markdown",
   "id": "4Kml766T2ygm",
   "metadata": {
    "id": "4Kml766T2ygm"
   },
   "source": [
    "Waar ik al bang voor was: we houden twee gemeenten over die zijn opgegaan in de gemeente Eemsdelta. Als we dit niet oplossen, krijg je een gat in de kaart. \n",
    "We kunnen een paar dingen doen:\n",
    "1. De polygonen van de drie gemeenten (Loppersum, Appingedam en Delfzijl) dissolven, dus tot 1 maken. \n",
    "2. De shapefiles als uitgangspunt nemen voor de merge en de ontbrekende waarden van Appingedam en Loppersum kopieren vanuit Delfzijl. Punt daarmee is wel dat als je daarmee gaat rekenen, je dus die waarden driedubbel rekent. Maar deze benadering is makkelijker dan dissolven.\n",
    "3. Hetzelfde als 2, maar de waarden niet kopieren en het dissolven in Qgis doen. Dat is de makkelijkste oplossing, maar niet herhaalbaar."
   ]
  },
  {
   "cell_type": "code",
   "execution_count": null,
   "id": "v5gzd6SFeNcA",
   "metadata": {
    "colab": {
     "base_uri": "https://localhost:8080/",
     "height": 81
    },
    "executionInfo": {
     "elapsed": 225,
     "status": "ok",
     "timestamp": 1641210667763,
     "user": {
      "displayName": "Datateam FTM",
      "photoUrl": "https://lh3.googleusercontent.com/a-/AOh14Gh-SZ_IvpQyWYE7bsghTCO40afuTKfDkU4w0AmB=s64",
      "userId": "02928333751490564617"
     },
     "user_tz": -60
    },
    "id": "v5gzd6SFeNcA",
    "outputId": "208a4b98-2442-476d-c229-3354be37f8ff"
   },
   "outputs": [],
   "source": [
    "shape[shape['GM_NAAM'] == 'Delfzijl']"
   ]
  },
  {
   "cell_type": "code",
   "execution_count": null,
   "id": "4KX-JRBzdFU5",
   "metadata": {
    "executionInfo": {
     "elapsed": 1,
     "status": "ok",
     "timestamp": 1641210668597,
     "user": {
      "displayName": "Datateam FTM",
      "photoUrl": "https://lh3.googleusercontent.com/a-/AOh14Gh-SZ_IvpQyWYE7bsghTCO40afuTKfDkU4w0AmB=s64",
      "userId": "02928333751490564617"
     },
     "user_tz": -60
    },
    "id": "4KX-JRBzdFU5"
   },
   "outputs": [],
   "source": [
    "gem = ['Appingedam', 'Loppersum', 'Delfzijl']\n",
    "\n",
    "to_dissolve = shape[shape['GM_NAAM'].isin(gem)]\n",
    "\n",
    "to_dissolve = to_dissolve.dissolve()\n",
    "\n",
    "to_dissolve.at[0,'GM_CODE'] = 'GM0010'\n",
    "to_dissolve.at[0,'GM_NAAM'] = 'Delfzijl'\n",
    "to_dissolve\n",
    "\n",
    "to_dissolve = to_dissolve[['GM_CODE', 'GM_NAAM', 'geometry']]\n",
    "\n",
    "shape = shape.drop(shape[shape['GM_NAAM'].isin(gem)].index)\n",
    "shape = shape.append(to_dissolve)"
   ]
  },
  {
   "cell_type": "code",
   "execution_count": null,
   "id": "e0F5ATGvfeCq",
   "metadata": {
    "colab": {
     "base_uri": "https://localhost:8080/"
    },
    "executionInfo": {
     "elapsed": 7,
     "status": "ok",
     "timestamp": 1641210669756,
     "user": {
      "displayName": "Datateam FTM",
      "photoUrl": "https://lh3.googleusercontent.com/a-/AOh14Gh-SZ_IvpQyWYE7bsghTCO40afuTKfDkU4w0AmB=s64",
      "userId": "02928333751490564617"
     },
     "user_tz": -60
    },
    "id": "e0F5ATGvfeCq",
    "outputId": "7712f266-33de-41fd-a0c3-9e4a22ee3ee0"
   },
   "outputs": [],
   "source": [
    "len(shape)"
   ]
  },
  {
   "cell_type": "code",
   "execution_count": null,
   "id": "-aZRIz80gGS7",
   "metadata": {
    "colab": {
     "base_uri": "https://localhost:8080/"
    },
    "executionInfo": {
     "elapsed": 8,
     "status": "ok",
     "timestamp": 1641210670820,
     "user": {
      "displayName": "Datateam FTM",
      "photoUrl": "https://lh3.googleusercontent.com/a-/AOh14Gh-SZ_IvpQyWYE7bsghTCO40afuTKfDkU4w0AmB=s64",
      "userId": "02928333751490564617"
     },
     "user_tz": -60
    },
    "id": "-aZRIz80gGS7",
    "outputId": "a31e32bb-6094-41d1-f6b6-59d8cb1ebeb9"
   },
   "outputs": [],
   "source": [
    "merge = pd.merge(shape, df, left_on='GM_CODE', right_on='gemeentecode', how='left')\n",
    "len(merge)"
   ]
  },
  {
   "cell_type": "code",
   "execution_count": null,
   "id": "nZ4P9M3Uh-Wu",
   "metadata": {
    "executionInfo": {
     "elapsed": 1,
     "status": "ok",
     "timestamp": 1641210671160,
     "user": {
      "displayName": "Datateam FTM",
      "photoUrl": "https://lh3.googleusercontent.com/a-/AOh14Gh-SZ_IvpQyWYE7bsghTCO40afuTKfDkU4w0AmB=s64",
      "userId": "02928333751490564617"
     },
     "user_tz": -60
    },
    "id": "nZ4P9M3Uh-Wu"
   },
   "outputs": [],
   "source": [
    "merge = merge.drop(merge.index[[342, 343, 344]])"
   ]
  },
  {
   "cell_type": "code",
   "execution_count": null,
   "id": "B0LZaT6Gggmp",
   "metadata": {
    "colab": {
     "base_uri": "https://localhost:8080/",
     "height": 214
    },
    "executionInfo": {
     "elapsed": 25,
     "status": "ok",
     "timestamp": 1641210671621,
     "user": {
      "displayName": "Datateam FTM",
      "photoUrl": "https://lh3.googleusercontent.com/a-/AOh14Gh-SZ_IvpQyWYE7bsghTCO40afuTKfDkU4w0AmB=s64",
      "userId": "02928333751490564617"
     },
     "user_tz": -60
    },
    "id": "B0LZaT6Gggmp",
    "outputId": "3dc8ff3c-6e01-4a73-9375-0277f76bb65c"
   },
   "outputs": [],
   "source": [
    "merge[merge['GM_NAAM'] == 'Beekdaelen']"
   ]
  },
  {
   "cell_type": "code",
   "execution_count": null,
   "id": "5CTr1S6IiNKU",
   "metadata": {
    "colab": {
     "base_uri": "https://localhost:8080/"
    },
    "executionInfo": {
     "elapsed": 7,
     "status": "ok",
     "timestamp": 1641210672181,
     "user": {
      "displayName": "Datateam FTM",
      "photoUrl": "https://lh3.googleusercontent.com/a-/AOh14Gh-SZ_IvpQyWYE7bsghTCO40afuTKfDkU4w0AmB=s64",
      "userId": "02928333751490564617"
     },
     "user_tz": -60
    },
    "id": "5CTr1S6IiNKU",
    "outputId": "a319fcce-b6c3-4b2e-934b-97cdc6045c3a"
   },
   "outputs": [],
   "source": [
    "len(merge)"
   ]
  },
  {
   "cell_type": "code",
   "execution_count": null,
   "id": "NXmBA2BwGz21",
   "metadata": {
    "executionInfo": {
     "elapsed": 204,
     "status": "ok",
     "timestamp": 1641210691776,
     "user": {
      "displayName": "Datateam FTM",
      "photoUrl": "https://lh3.googleusercontent.com/a-/AOh14Gh-SZ_IvpQyWYE7bsghTCO40afuTKfDkU4w0AmB=s64",
      "userId": "02928333751490564617"
     },
     "user_tz": -60
    },
    "id": "NXmBA2BwGz21"
   },
   "outputs": [],
   "source": [
    "merge = merge.rename(columns = {'gemeentecode': 'gemcode',\n",
    "  'harde_plannen_totaal': 'pl_hard',\n",
    " 'zachte_plannen_totaal': 'pl_zacht',\n",
    " 'plannen_totaal': 'pl_totaal',\n",
    " 'voorraad_median': 'vr_median',\n",
    " 'voorraad_min': 'vr_min',\n",
    " 'voorraad_max': 'vr_max',\n",
    " 'dif_voorraad': 'vr_dif',\n",
    " 'nieuwbouw_median': 'nb_median',\n",
    " 'nieuwbouw_min': 'nb_min',\n",
    " 'nieuwbouw_max': 'nb_max',\n",
    " 'nieuwbouw_sum': 'nb_sum',\n",
    " 'nieuwbouw_perc': 'nb_perc',\n",
    " 'max_jaar': 'nb_jr_max',\n",
    " 'min_jaar': 'nb_jr_min',\n",
    " 'plannen_nieuwbouw_abs': 'pl_nb_abs',\n",
    " 'plannen_nieuwbouw_rel': 'pl_nb_rel',\n",
    " 'plannen_nieuwbouw_abs_comp': 'pl_nb_absc',\n",
    " 'plannen_nieuwbouw_rel_comp': 'pl_nb_relc',\n",
    " 'voorraad_plannen_abs': 'vr_pl_abs',\n",
    " 'voorraad_plannen_rel': 'vr_pl_rel'})"
   ]
  }
 ],
 "metadata": {
  "colab": {
   "collapsed_sections": [],
   "name": "plancapaciteit.ipynb",
   "provenance": []
  },
  "kernelspec": {
   "display_name": "general",
   "language": "python",
   "name": "general"
  },
  "language_info": {
   "codemirror_mode": {
    "name": "ipython",
    "version": 3
   },
   "file_extension": ".py",
   "mimetype": "text/x-python",
   "name": "python",
   "nbconvert_exporter": "python",
   "pygments_lexer": "ipython3",
   "version": "3.9.4"
  }
 },
 "nbformat": 4,
 "nbformat_minor": 5
}
